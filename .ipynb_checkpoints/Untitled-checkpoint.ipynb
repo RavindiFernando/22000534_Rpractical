{
 "cells": [
  {
   "cell_type": "code",
   "execution_count": null,
   "id": "0ed286dc-3a2b-495f-86da-d15305eb29a0",
   "metadata": {},
   "outputs": [],
   "source": []
  }
 ],
 "metadata": {
  "kernelspec": {
   "display_name": "R",
   "language": "R",
   "name": "ir"
  },
  "language_info": {
   "codemirror_mode": "r",
   "file_extension": ".r",
   "mimetype": "text/x-r-source",
   "name": "R",
   "pygments_lexer": "r",
   "version": "4.4.2"
  }
 },
 "nbformat": 4,
 "nbformat_minor": 5
}
